{
 "cells": [
  {
   "cell_type": "code",
   "execution_count": null,
   "id": "0cc18a1e",
   "metadata": {},
   "outputs": [],
   "source": [
    "from torchvision import datasets\n",
    "train_data = datasets.MNIST(root='./data', train=True, download=True)\n",
    "test_data = datasets.MNIST(root='./data', train=False, download=True)"
   ]
  },
  {
   "cell_type": "markdown",
   "id": "b8c10ebf",
   "metadata": {},
   "source": [
    "### Model"
   ]
  },
  {
   "cell_type": "code",
   "execution_count": 1,
   "id": "6ef8342b",
   "metadata": {},
   "outputs": [],
   "source": [
    "import torch\n",
    "import torch.nn as nn\n",
    "import torch.nn.functional as F\n",
    "\n",
    "class DigitClassifier(nn.Module):\n",
    "    def __init__(self):\n",
    "        super(DigitClassifier, self).__init__()\n",
    "        self.fc1 = nn.Linear(784, 256)\n",
    "        self.fc2 = nn.Linear(256, 128)\n",
    "        self.fc3 = nn.Linear(128, 10)\n",
    "\n",
    "    def forward(self, x):\n",
    "        x = x.view(-1, 784)\n",
    "        x = F.relu(self.fc1(x))\n",
    "        x = F.relu(self.fc2(x))\n",
    "        x = self.fc3(x)\n",
    "        return x"
   ]
  },
  {
   "cell_type": "markdown",
   "id": "fd56ccd3",
   "metadata": {},
   "source": [
    "### Training"
   ]
  },
  {
   "cell_type": "code",
   "execution_count": 3,
   "id": "82869b57",
   "metadata": {},
   "outputs": [],
   "source": [
    "model = DigitClassifier()\n",
    "loss_fn = nn.CrossEntropyLoss()\n",
    "optimizer = torch.optim.SGD(model.parameters(), lr=0.1)"
   ]
  },
  {
   "cell_type": "code",
   "execution_count": 4,
   "id": "2abce39f",
   "metadata": {},
   "outputs": [
    {
     "name": "stdout",
     "output_type": "stream",
     "text": [
      "Epoch 0: Loss 1.3470\n",
      "Epoch 10: Loss 0.2235\n",
      "Epoch 20: Loss 0.1636\n",
      "Epoch 30: Loss 0.1293\n",
      "Epoch 40: Loss 0.1071\n",
      "Epoch 50: Loss 0.0887\n"
     ]
    }
   ],
   "source": [
    "num_epochs = 50\n",
    "batch_size = 1024\n",
    "\n",
    "for epoch in range(num_epochs+1):\n",
    "    for batch_start in range(0, len(train_data), batch_size):\n",
    "        x_batch = train_data.data[batch_start:batch_start + batch_size].float()\n",
    "        y_batch = train_data.targets[batch_start:batch_start + batch_size]\n",
    "        \n",
    "        x_batch = x_batch / 255.0\n",
    "        \n",
    "        outputs = model(x_batch)\n",
    "        loss = loss_fn(outputs, y_batch)\n",
    "\n",
    "        optimizer.zero_grad()\n",
    "        loss.backward()\n",
    "        optimizer.step()\n",
    "    if epoch % 10 == 0:\n",
    "        print(f\"Epoch {epoch}: Loss {loss.item():.4f}\")\n"
   ]
  },
  {
   "cell_type": "markdown",
   "id": "db6a877c",
   "metadata": {},
   "source": [
    "### Evaluating the Performance"
   ]
  },
  {
   "cell_type": "code",
   "execution_count": 10,
   "id": "8558531f",
   "metadata": {},
   "outputs": [
    {
     "name": "stdout",
     "output_type": "stream",
     "text": [
      "Accuracy on test dataset: 97.08%!\n"
     ]
    }
   ],
   "source": [
    "x_test = test_data.data.float() / 255\n",
    "y_test = test_data.targets.reshape(10000,1)\n",
    "correct = 0\n",
    "\n",
    "outputs = model(x_test)\n",
    "\n",
    "_, predicted = torch.max(outputs, 1)\n",
    "predicted = predicted.reshape((10000,1))\n",
    "correct += (predicted == y_test).sum().item()\n",
    "accuracy = 100 * correct / 10000\n",
    "print(f\"Accuracy on test dataset: {accuracy}%!\")"
   ]
  }
 ],
 "metadata": {
  "kernelspec": {
   "display_name": "torch",
   "language": "python",
   "name": "python3"
  },
  "language_info": {
   "codemirror_mode": {
    "name": "ipython",
    "version": 3
   },
   "file_extension": ".py",
   "mimetype": "text/x-python",
   "name": "python",
   "nbconvert_exporter": "python",
   "pygments_lexer": "ipython3",
   "version": "3.12.0"
  }
 },
 "nbformat": 4,
 "nbformat_minor": 5
}
